{
 "cells": [
  {
   "cell_type": "code",
   "execution_count": 1,
   "metadata": {},
   "outputs": [],
   "source": [
    "%matplotlib inline\n",
    "\n",
    "import pandas as pd\n",
    "import numpy as np\n",
    "import matplotlib.pyplot as plt\n",
    "\n",
    "from pylab import plt\n",
    "plt.style.use('seaborn')"
   ]
  },
  {
   "cell_type": "code",
   "execution_count": 2,
   "metadata": {},
   "outputs": [],
   "source": [
    "import precios as pc"
   ]
  },
  {
   "cell_type": "code",
   "execution_count": 3,
   "metadata": {},
   "outputs": [],
   "source": [
    "df = pc.datos('2016-1-1')"
   ]
  },
  {
   "cell_type": "code",
   "execution_count": 7,
   "metadata": {},
   "outputs": [],
   "source": [
    "del df['ipc']"
   ]
  },
  {
   "cell_type": "code",
   "execution_count": 9,
   "metadata": {},
   "outputs": [],
   "source": [
    "df_retornos = np.log(df/df.shift(1))\n",
    "df_retornos.dropna(inplace = True)"
   ]
  },
  {
   "cell_type": "code",
   "execution_count": 11,
   "metadata": {},
   "outputs": [
    {
     "data": {
      "text/plain": [
       "ac            0.069339\n",
       "alfaa        -0.659918\n",
       "alpeka       -0.066720\n",
       "alsea        -0.207652\n",
       "amxl          0.213286\n",
       "asurb         0.243276\n",
       "bimboa       -0.229718\n",
       "bolsaa        0.505851\n",
       "cemexcpo     -0.144160\n",
       "elektra       1.334904\n",
       "femsaubd      0.146563\n",
       "gapb          0.275169\n",
       "gcarsoa1     -0.193062\n",
       "gmexicob      0.237214\n",
       "grumab       -0.160061\n",
       "ienova        0.082422\n",
       "kimbera       0.042985\n",
       "kofubl        0.005968\n",
       "labb          0.275463\n",
       "livepolc1    -0.663796\n",
       "megacpo       0.256199\n",
       "omab          0.379406\n",
       "orbia         0.025205\n",
       "penoles       0.371505\n",
       "pinfra       -0.125699\n",
       "tlevisacpo   -0.874735\n",
       "walmex        0.318708\n",
       "dtype: float64"
      ]
     },
     "execution_count": 11,
     "metadata": {},
     "output_type": "execute_result"
    }
   ],
   "source": [
    "df_retornos.sum()"
   ]
  },
  {
   "cell_type": "code",
   "execution_count": 14,
   "metadata": {},
   "outputs": [],
   "source": [
    "serie_retornos_promedios = df_retornos.mean()"
   ]
  },
  {
   "cell_type": "code",
   "execution_count": 15,
   "metadata": {},
   "outputs": [
    {
     "data": {
      "text/plain": [
       "ac            0.000073\n",
       "alfaa        -0.000698\n",
       "alpeka       -0.000071\n",
       "alsea        -0.000220\n",
       "amxl          0.000226\n",
       "asurb         0.000257\n",
       "bimboa       -0.000243\n",
       "bolsaa        0.000535\n",
       "cemexcpo     -0.000153\n",
       "elektra       0.001413\n",
       "femsaubd      0.000155\n",
       "gapb          0.000291\n",
       "gcarsoa1     -0.000204\n",
       "gmexicob      0.000251\n",
       "grumab       -0.000169\n",
       "ienova        0.000087\n",
       "kimbera       0.000045\n",
       "kofubl        0.000006\n",
       "labb          0.000291\n",
       "livepolc1    -0.000702\n",
       "megacpo       0.000271\n",
       "omab          0.000401\n",
       "orbia         0.000027\n",
       "penoles       0.000393\n",
       "pinfra       -0.000133\n",
       "tlevisacpo   -0.000926\n",
       "walmex        0.000337\n",
       "dtype: float64"
      ]
     },
     "execution_count": 15,
     "metadata": {},
     "output_type": "execute_result"
    }
   ],
   "source": [
    "serie_retornos_promedios"
   ]
  },
  {
   "cell_type": "code",
   "execution_count": 17,
   "metadata": {},
   "outputs": [
    {
     "data": {
      "text/plain": [
       "ac            0.018490\n",
       "alfaa        -0.175978\n",
       "alpeka       -0.017792\n",
       "alsea        -0.055374\n",
       "amxl          0.056876\n",
       "asurb         0.064874\n",
       "bimboa       -0.061258\n",
       "bolsaa        0.134894\n",
       "cemexcpo     -0.038443\n",
       "elektra       0.355974\n",
       "femsaubd      0.039083\n",
       "gapb          0.073378\n",
       "gcarsoa1     -0.051483\n",
       "gmexicob      0.063257\n",
       "grumab       -0.042683\n",
       "ienova        0.021979\n",
       "kimbera       0.011463\n",
       "kofubl        0.001591\n",
       "labb          0.073457\n",
       "livepolc1    -0.177012\n",
       "megacpo       0.068320\n",
       "omab          0.101175\n",
       "orbia         0.006721\n",
       "penoles       0.099068\n",
       "pinfra       -0.033520\n",
       "tlevisacpo   -0.233263\n",
       "walmex        0.084989\n",
       "dtype: float64"
      ]
     },
     "execution_count": 17,
     "metadata": {},
     "output_type": "execute_result"
    }
   ],
   "source": [
    "serie_retornos_promedio_anual = serie_retornos_promedios *252\n",
    "serie_retornos_promedio_anual"
   ]
  },
  {
   "cell_type": "code",
   "execution_count": 18,
   "metadata": {},
   "outputs": [
    {
     "data": {
      "text/plain": [
       "ac            0.013021\n",
       "alfaa         0.016812\n",
       "alpeka        0.016969\n",
       "alsea         0.015681\n",
       "amxl          0.015692\n",
       "asurb         0.015199\n",
       "bimboa        0.015616\n",
       "bolsaa        0.016870\n",
       "cemexcpo      0.020774\n",
       "elektra       0.021836\n",
       "femsaubd      0.011602\n",
       "gapb          0.015231\n",
       "gcarsoa1      0.019174\n",
       "gmexicob      0.018314\n",
       "grumab        0.013534\n",
       "ienova        0.015363\n",
       "kimbera       0.015930\n",
       "kofubl        0.012523\n",
       "labb          0.021851\n",
       "livepolc1     0.016441\n",
       "megacpo       0.013951\n",
       "omab          0.016146\n",
       "orbia         0.016558\n",
       "penoles       0.024172\n",
       "pinfra        0.013946\n",
       "tlevisacpo    0.018006\n",
       "walmex        0.014939\n",
       "dtype: float64"
      ]
     },
     "execution_count": 18,
     "metadata": {},
     "output_type": "execute_result"
    }
   ],
   "source": [
    "serie_sigma = df_retornos.std()\n",
    "serie_sigma"
   ]
  },
  {
   "cell_type": "code",
   "execution_count": 19,
   "metadata": {},
   "outputs": [
    {
     "data": {
      "text/plain": [
       "ac            0.206694\n",
       "alfaa         0.266881\n",
       "alpeka        0.269367\n",
       "alsea         0.248920\n",
       "amxl          0.249102\n",
       "asurb         0.241273\n",
       "bimboa        0.247894\n",
       "bolsaa        0.267805\n",
       "cemexcpo      0.329778\n",
       "elektra       0.346638\n",
       "femsaubd      0.184177\n",
       "gapb          0.241786\n",
       "gcarsoa1      0.304380\n",
       "gmexicob      0.290722\n",
       "grumab        0.214849\n",
       "ienova        0.243879\n",
       "kimbera       0.252885\n",
       "kofubl        0.198799\n",
       "labb          0.346867\n",
       "livepolc1     0.260991\n",
       "megacpo       0.221459\n",
       "omab          0.256307\n",
       "orbia         0.262858\n",
       "penoles       0.383717\n",
       "pinfra        0.221388\n",
       "tlevisacpo    0.285840\n",
       "walmex        0.237145\n",
       "dtype: float64"
      ]
     },
     "execution_count": 19,
     "metadata": {},
     "output_type": "execute_result"
    }
   ],
   "source": [
    "serie_sigma_anual = serie_sigma * np.sqrt(252)\n",
    "serie_sigma_anual"
   ]
  },
  {
   "cell_type": "code",
   "execution_count": 22,
   "metadata": {},
   "outputs": [],
   "source": [
    "acciones = pc.componentes()"
   ]
  },
  {
   "cell_type": "code",
   "execution_count": 24,
   "metadata": {},
   "outputs": [
    {
     "data": {
      "image/png": "[encoded data removed]",
      "text/plain": [
       "<Figure size 864x576 with 1 Axes>"
      ]
     },
     "metadata": {
      "needs_background": "light"
     },
     "output_type": "display_data"
    }
   ],
   "source": [
    "plt.figure(figsize = (12, 8))\n",
    "\n",
    "plt.suptitle('Disperción retornos/volatilidad BMV', \n",
    "             fontsize = 16)\n",
    "\n",
    "plt.title('Del 2016-1-1 al 2019-10-4')\n",
    "\n",
    "plt.xlabel('Volatilidad anualizada')\n",
    "plt.ylabel('Retornos anualizados')\n",
    "\n",
    "for accion in acciones:\n",
    "    \n",
    "    if accion != 'ipc':\n",
    "        plt.scatter(serie_sigma_anual[accion], \n",
    "                    serie_retornos_promedio_anual[accion], marker='+',\n",
    "                   label = accion)\n",
    "        plt.text(serie_sigma_anual[accion],\n",
    "                 serie_retornos_promedio_anual[accion], accion,\n",
    "                 fontsize = 12)"
   ]
  },
  {
   "cell_type": "code",
   "execution_count": 27,
   "metadata": {},
   "outputs": [
    {
     "data": {
      "text/plain": [
       "0.018490376387934555"
      ]
     },
     "execution_count": 27,
     "metadata": {},
     "output_type": "execute_result"
    }
   ],
   "source": [
    "serie_retornos_promedio_anual['ac']"
   ]
  },
  {
   "cell_type": "code",
   "execution_count": null,
   "metadata": {},
   "outputs": [],
   "source": []
  }
 ],
 "metadata": {
  "kernelspec": {
   "display_name": "Python 3",
   "language": "python",
   "name": "python3"
  },
  "language_info": {
   "codemirror_mode": {
    "name": "ipython",
    "version": 3
   },
   "file_extension": ".py",
   "mimetype": "text/x-python",
   "name": "python",
   "nbconvert_exporter": "python",
   "pygments_lexer": "ipython3",
   "version": "3.7.1"
  }
 },
 "nbformat": 4,
 "nbformat_minor": 2
}
