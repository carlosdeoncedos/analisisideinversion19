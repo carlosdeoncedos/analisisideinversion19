{
 "cells": [
  {
   "cell_type": "code",
   "execution_count": 1,
   "metadata": {},
   "outputs": [],
   "source": [
    "%matplotlib inline\n",
    "\n",
    "import pandas as pd\n",
    "import numpy as np\n",
    "import matplotlib.pyplot as plt\n",
    "\n",
    "from pylab import plt\n",
    "plt.style.use('seaborn')"
   ]
  },
  {
   "cell_type": "code",
   "execution_count": 2,
   "metadata": {},
   "outputs": [],
   "source": [
    "import precios as pc"
   ]
  },
  {
   "cell_type": "code",
   "execution_count": 3,
   "metadata": {},
   "outputs": [],
   "source": [
    "df = pc.datos('2019-1-1')"
   ]
  },
  {
   "cell_type": "code",
   "execution_count": 4,
   "metadata": {},
   "outputs": [],
   "source": [
    "del df['ipc']"
   ]
  },
  {
   "cell_type": "code",
   "execution_count": 5,
   "metadata": {},
   "outputs": [],
   "source": [
    "df_retornos = np.log(df/df.shift(1))\n",
    "df_retornos.dropna(inplace = True)"
   ]
  },
  {
   "cell_type": "code",
   "execution_count": 6,
   "metadata": {},
   "outputs": [
    {
     "data": {
      "text/plain": [
       "ac            0.002562\n",
       "alfaa        -0.290116\n",
       "alpeka       -0.094821\n",
       "alsea        -0.068993\n",
       "amxl          0.033462\n",
       "asurb        -0.007311\n",
       "bimboa       -0.094344\n",
       "bolsaa        0.085288\n",
       "cemexcpo     -0.291442\n",
       "elektra       0.380721\n",
       "femsaubd      0.066257\n",
       "gapb          0.166952\n",
       "gcarsoa1     -0.222414\n",
       "gmexicob      0.098829\n",
       "grumab       -0.095057\n",
       "ienova        0.095664\n",
       "kimbera       0.261606\n",
       "kofubl        0.001737\n",
       "labb          0.464330\n",
       "livepolc1    -0.178241\n",
       "megacpo      -0.081603\n",
       "omab          0.193361\n",
       "orbia        -0.256608\n",
       "penoles       0.024329\n",
       "pinfra       -0.044374\n",
       "tlevisacpo   -0.252637\n",
       "walmex        0.169773\n",
       "dtype: float64"
      ]
     },
     "execution_count": 6,
     "metadata": {},
     "output_type": "execute_result"
    }
   ],
   "source": [
    "df_retornos.sum()"
   ]
  },
  {
   "cell_type": "code",
   "execution_count": 7,
   "metadata": {},
   "outputs": [],
   "source": [
    "serie_retornos_promedios = df_retornos.mean()"
   ]
  },
  {
   "cell_type": "code",
   "execution_count": 8,
   "metadata": {},
   "outputs": [
    {
     "data": {
      "text/plain": [
       "ac            0.000013\n",
       "alfaa        -0.001519\n",
       "alpeka       -0.000496\n",
       "alsea        -0.000361\n",
       "amxl          0.000175\n",
       "asurb        -0.000038\n",
       "bimboa       -0.000494\n",
       "bolsaa        0.000447\n",
       "cemexcpo     -0.001526\n",
       "elektra       0.001993\n",
       "femsaubd      0.000347\n",
       "gapb          0.000874\n",
       "gcarsoa1     -0.001164\n",
       "gmexicob      0.000517\n",
       "grumab       -0.000498\n",
       "ienova        0.000501\n",
       "kimbera       0.001370\n",
       "kofubl        0.000009\n",
       "labb          0.002431\n",
       "livepolc1    -0.000933\n",
       "megacpo      -0.000427\n",
       "omab          0.001012\n",
       "orbia        -0.001343\n",
       "penoles       0.000127\n",
       "pinfra       -0.000232\n",
       "tlevisacpo   -0.001323\n",
       "walmex        0.000889\n",
       "dtype: float64"
      ]
     },
     "execution_count": 8,
     "metadata": {},
     "output_type": "execute_result"
    }
   ],
   "source": [
    "serie_retornos_promedios"
   ]
  },
  {
   "cell_type": "code",
   "execution_count": 9,
   "metadata": {},
   "outputs": [
    {
     "data": {
      "text/plain": [
       "ac            0.003381\n",
       "alfaa        -0.382771\n",
       "alpeka       -0.125105\n",
       "alsea        -0.091027\n",
       "amxl          0.044148\n",
       "asurb        -0.009645\n",
       "bimboa       -0.124475\n",
       "bolsaa        0.112527\n",
       "cemexcpo     -0.384520\n",
       "elektra       0.502313\n",
       "femsaubd      0.087417\n",
       "gapb          0.220272\n",
       "gcarsoa1     -0.293446\n",
       "gmexicob      0.130392\n",
       "grumab       -0.125416\n",
       "ienova        0.126216\n",
       "kimbera       0.345156\n",
       "kofubl        0.002292\n",
       "labb          0.612623\n",
       "livepolc1    -0.235166\n",
       "megacpo      -0.107664\n",
       "omab          0.255115\n",
       "orbia        -0.338561\n",
       "penoles       0.032099\n",
       "pinfra       -0.058546\n",
       "tlevisacpo   -0.333322\n",
       "walmex        0.223994\n",
       "dtype: float64"
      ]
     },
     "execution_count": 9,
     "metadata": {},
     "output_type": "execute_result"
    }
   ],
   "source": [
    "serie_retornos_promedio_anual = serie_retornos_promedios *252\n",
    "serie_retornos_promedio_anual"
   ]
  },
  {
   "cell_type": "code",
   "execution_count": 10,
   "metadata": {},
   "outputs": [
    {
     "data": {
      "text/plain": [
       "ac            0.011574\n",
       "alfaa         0.018524\n",
       "alpeka        0.014902\n",
       "alsea         0.017138\n",
       "amxl          0.015391\n",
       "asurb         0.014294\n",
       "bimboa        0.015540\n",
       "bolsaa        0.014325\n",
       "cemexcpo      0.021137\n",
       "elektra       0.012891\n",
       "femsaubd      0.010156\n",
       "gapb          0.015868\n",
       "gcarsoa1      0.019434\n",
       "gmexicob      0.019536\n",
       "grumab        0.011330\n",
       "ienova        0.017863\n",
       "kimbera       0.016861\n",
       "kofubl        0.011055\n",
       "labb          0.021161\n",
       "livepolc1     0.015072\n",
       "megacpo       0.015941\n",
       "omab          0.015303\n",
       "orbia         0.018613\n",
       "penoles       0.023652\n",
       "pinfra        0.014105\n",
       "tlevisacpo    0.022561\n",
       "walmex        0.014812\n",
       "dtype: float64"
      ]
     },
     "execution_count": 10,
     "metadata": {},
     "output_type": "execute_result"
    }
   ],
   "source": [
    "serie_sigma = df_retornos.std()\n",
    "serie_sigma"
   ]
  },
  {
   "cell_type": "code",
   "execution_count": 11,
   "metadata": {},
   "outputs": [
    {
     "data": {
      "text/plain": [
       "ac            0.183734\n",
       "alfaa         0.294060\n",
       "alpeka        0.236561\n",
       "alsea         0.272059\n",
       "amxl          0.244318\n",
       "asurb         0.226915\n",
       "bimboa        0.246684\n",
       "bolsaa        0.227400\n",
       "cemexcpo      0.335537\n",
       "elektra       0.204641\n",
       "femsaubd      0.161220\n",
       "gapb          0.251894\n",
       "gcarsoa1      0.308506\n",
       "gmexicob      0.310125\n",
       "grumab        0.179863\n",
       "ienova        0.283567\n",
       "kimbera       0.267663\n",
       "kofubl        0.175497\n",
       "labb          0.335920\n",
       "livepolc1     0.239263\n",
       "megacpo       0.253052\n",
       "omab          0.242930\n",
       "orbia         0.295474\n",
       "penoles       0.375461\n",
       "pinfra        0.223904\n",
       "tlevisacpo    0.358146\n",
       "walmex        0.235125\n",
       "dtype: float64"
      ]
     },
     "execution_count": 11,
     "metadata": {},
     "output_type": "execute_result"
    }
   ],
   "source": [
    "serie_sigma_anual = serie_sigma * np.sqrt(252)\n",
    "serie_sigma_anual"
   ]
  },
  {
   "cell_type": "code",
   "execution_count": 12,
   "metadata": {},
   "outputs": [],
   "source": [
    "acciones = pc.componentes()"
   ]
  },
  {
   "cell_type": "code",
   "execution_count": 13,
   "metadata": {},
   "outputs": [
    {
     "data": {
      "image/png": "[encoded data removed]",
      "text/plain": [
       "<Figure size 864x576 with 1 Axes>"
      ]
     },
     "metadata": {
      "needs_background": "light"
     },
     "output_type": "display_data"
    }
   ],
   "source": [
    "plt.figure(figsize = (12, 8))\n",
    "\n",
    "plt.suptitle('Disperción retornos/volatilidad BMV', \n",
    "             fontsize = 16)\n",
    "\n",
    "plt.title('Del 2016-1-1 al 2019-10-4')\n",
    "\n",
    "plt.xlabel('Volatilidad anualizada')\n",
    "plt.ylabel('Retornos anualizados')\n",
    "\n",
    "for accion in acciones:\n",
    "    \n",
    "    if accion != 'ipc':\n",
    "        plt.scatter(serie_sigma_anual[accion], \n",
    "                    serie_retornos_promedio_anual[accion], marker='+',\n",
    "                   label = accion)\n",
    "        plt.text(serie_sigma_anual[accion],\n",
    "                 serie_retornos_promedio_anual[accion], accion,\n",
    "                 fontsize = 12)"
   ]
  },
  {
   "cell_type": "code",
   "execution_count": 14,
   "metadata": {},
   "outputs": [],
   "source": [
    "rf = 0.0755\n",
    "\n",
    "sharp_ratio = (serie_retornos_promedio_anual - rf) / serie_sigma_anual"
   ]
  },
  {
   "cell_type": "code",
   "execution_count": 15,
   "metadata": {},
   "outputs": [],
   "source": [
    "sharp_ratio.sort_values(ascending=False, inplace = True)"
   ]
  },
  {
   "cell_type": "code",
   "execution_count": 16,
   "metadata": {},
   "outputs": [
    {
     "data": {
      "text/plain": [
       "elektra       2.085665\n",
       "labb          1.598961\n",
       "kimbera       1.007446\n",
       "omab          0.739371\n",
       "walmex        0.631553\n",
       "gapb          0.574731\n",
       "ienova        0.178849\n",
       "gmexicob      0.176998\n",
       "bolsaa        0.162829\n",
       "femsaubd      0.073921\n",
       "penoles      -0.115594\n",
       "amxl         -0.128323\n",
       "asurb        -0.375231\n",
       "ac           -0.392521\n",
       "kofubl       -0.417148\n",
       "pinfra       -0.598675\n",
       "alsea        -0.612099\n",
       "megacpo      -0.723822\n",
       "bimboa       -0.810652\n",
       "alpeka       -0.848004\n",
       "grumab       -1.117054\n",
       "tlevisacpo   -1.141496\n",
       "gcarsoa1     -1.195914\n",
       "livepolc1    -1.298430\n",
       "cemexcpo     -1.370998\n",
       "orbia        -1.401347\n",
       "alfaa        -1.558427\n",
       "dtype: float64"
      ]
     },
     "execution_count": 16,
     "metadata": {},
     "output_type": "execute_result"
    }
   ],
   "source": [
    "sharp_ratio"
   ]
  },
  {
   "cell_type": "code",
   "execution_count": 17,
   "metadata": {},
   "outputs": [
    {
     "data": {
      "image/png": "[encoded data removed]",
      "text/plain": [
       "<Figure size 864x576 with 1 Axes>"
      ]
     },
     "metadata": {
      "needs_background": "light"
     },
     "output_type": "display_data"
    }
   ],
   "source": [
    "sharp_ratio.plot(kind = 'bar', figsize = (12,8), \n",
    "                 title = 'SharpRatio');"
   ]
  },
  {
   "cell_type": "code",
   "execution_count": 18,
   "metadata": {},
   "outputs": [
    {
     "data": {
      "text/plain": [
       "elektra    2.085665\n",
       "labb       1.598961\n",
       "kimbera    1.007446\n",
       "omab       0.739371\n",
       "walmex     0.631553\n",
       "dtype: float64"
      ]
     },
     "execution_count": 18,
     "metadata": {},
     "output_type": "execute_result"
    }
   ],
   "source": [
    "acciones_portafolio = sharp_ratio[sharp_ratio > .6]\n",
    "acciones_portafolio"
   ]
  },
  {
   "cell_type": "code",
   "execution_count": 19,
   "metadata": {},
   "outputs": [],
   "source": [
    "numero_acciones = len(acciones_portafolio)\n",
    "nombre_acciones = list(acciones_portafolio.index)"
   ]
  },
  {
   "cell_type": "code",
   "execution_count": 20,
   "metadata": {},
   "outputs": [
    {
     "data": {
      "text/plain": [
       "['elektra', 'labb', 'kimbera', 'omab', 'walmex']"
      ]
     },
     "execution_count": 20,
     "metadata": {},
     "output_type": "execute_result"
    }
   ],
   "source": [
    "nombre_acciones"
   ]
  },
  {
   "cell_type": "code",
   "execution_count": 21,
   "metadata": {},
   "outputs": [],
   "source": [
    "num_simulaciones = 30000"
   ]
  },
  {
   "cell_type": "code",
   "execution_count": 22,
   "metadata": {},
   "outputs": [],
   "source": [
    "simulacion = np.zeros((num_simulaciones, 4 + numero_acciones))"
   ]
  },
  {
   "cell_type": "code",
   "execution_count": 23,
   "metadata": {},
   "outputs": [
    {
     "data": {
      "text/plain": [
       "(30000, 9)"
      ]
     },
     "execution_count": 23,
     "metadata": {},
     "output_type": "execute_result"
    }
   ],
   "source": [
    "simulacion.shape"
   ]
  },
  {
   "cell_type": "code",
   "execution_count": 24,
   "metadata": {},
   "outputs": [],
   "source": [
    "nombre_columnas = ['# simulacion', 'Ret', 'Sigma', 'Sharpe'] + nombre_acciones"
   ]
  },
  {
   "cell_type": "code",
   "execution_count": 25,
   "metadata": {},
   "outputs": [
    {
     "data": {
      "text/plain": [
       "['# simulacion',\n",
       " 'Ret',\n",
       " 'Sigma',\n",
       " 'Sharpe',\n",
       " 'elektra',\n",
       " 'labb',\n",
       " 'kimbera',\n",
       " 'omab',\n",
       " 'walmex']"
      ]
     },
     "execution_count": 25,
     "metadata": {},
     "output_type": "execute_result"
    }
   ],
   "source": [
    "nombre_columnas"
   ]
  },
  {
   "cell_type": "code",
   "execution_count": 26,
   "metadata": {},
   "outputs": [],
   "source": [
    "df_portafolio = pd.DataFrame(index = range(num_simulaciones), \n",
    "                             columns = nombre_columnas)"
   ]
  },
  {
   "cell_type": "code",
   "execution_count": 27,
   "metadata": {},
   "outputs": [
    {
     "name": "stdout",
     "output_type": "stream",
     "text": [
      "<class 'pandas.core.frame.DataFrame'>\n",
      "RangeIndex: 30000 entries, 0 to 29999\n",
      "Data columns (total 9 columns):\n",
      "# simulacion    0 non-null object\n",
      "Ret             0 non-null object\n",
      "Sigma           0 non-null object\n",
      "Sharpe          0 non-null object\n",
      "elektra         0 non-null object\n",
      "labb            0 non-null object\n",
      "kimbera         0 non-null object\n",
      "omab            0 non-null object\n",
      "walmex          0 non-null object\n",
      "dtypes: object(9)\n",
      "memory usage: 2.1+ MB\n"
     ]
    }
   ],
   "source": [
    "df_portafolio.info()"
   ]
  },
  {
   "cell_type": "code",
   "execution_count": 28,
   "metadata": {},
   "outputs": [
    {
     "data": {
      "text/html": [
       "<div>\n",
       "<style scoped>\n",
       "    .dataframe tbody tr th:only-of-type {\n",
       "        vertical-align: middle;\n",
       "    }\n",
       "\n",
       "    .dataframe tbody tr th {\n",
       "        vertical-align: top;\n",
       "    }\n",
       "\n",
       "    .dataframe thead th {\n",
       "        text-align: right;\n",
       "    }\n",
       "</style>\n",
       "<table border=\"1\" class=\"dataframe\">\n",
       "  <thead>\n",
       "    <tr style=\"text-align: right;\">\n",
       "      <th></th>\n",
       "      <th>elektra</th>\n",
       "      <th>labb</th>\n",
       "      <th>kimbera</th>\n",
       "      <th>omab</th>\n",
       "      <th>walmex</th>\n",
       "    </tr>\n",
       "  </thead>\n",
       "  <tbody>\n",
       "    <tr>\n",
       "      <th>elektra</th>\n",
       "      <td>0.000166</td>\n",
       "      <td>0.000009</td>\n",
       "      <td>0.000016</td>\n",
       "      <td>0.000041</td>\n",
       "      <td>0.000009</td>\n",
       "    </tr>\n",
       "    <tr>\n",
       "      <th>labb</th>\n",
       "      <td>0.000009</td>\n",
       "      <td>0.000448</td>\n",
       "      <td>0.000042</td>\n",
       "      <td>0.000027</td>\n",
       "      <td>0.000007</td>\n",
       "    </tr>\n",
       "    <tr>\n",
       "      <th>kimbera</th>\n",
       "      <td>0.000016</td>\n",
       "      <td>0.000042</td>\n",
       "      <td>0.000284</td>\n",
       "      <td>0.000077</td>\n",
       "      <td>0.000068</td>\n",
       "    </tr>\n",
       "    <tr>\n",
       "      <th>omab</th>\n",
       "      <td>0.000041</td>\n",
       "      <td>0.000027</td>\n",
       "      <td>0.000077</td>\n",
       "      <td>0.000234</td>\n",
       "      <td>0.000043</td>\n",
       "    </tr>\n",
       "    <tr>\n",
       "      <th>walmex</th>\n",
       "      <td>0.000009</td>\n",
       "      <td>0.000007</td>\n",
       "      <td>0.000068</td>\n",
       "      <td>0.000043</td>\n",
       "      <td>0.000219</td>\n",
       "    </tr>\n",
       "  </tbody>\n",
       "</table>\n",
       "</div>"
      ],
      "text/plain": [
       "          elektra      labb   kimbera      omab    walmex\n",
       "elektra  0.000166  0.000009  0.000016  0.000041  0.000009\n",
       "labb     0.000009  0.000448  0.000042  0.000027  0.000007\n",
       "kimbera  0.000016  0.000042  0.000284  0.000077  0.000068\n",
       "omab     0.000041  0.000027  0.000077  0.000234  0.000043\n",
       "walmex   0.000009  0.000007  0.000068  0.000043  0.000219"
      ]
     },
     "execution_count": 28,
     "metadata": {},
     "output_type": "execute_result"
    }
   ],
   "source": [
    "matriz_cov_port = df_retornos[nombre_acciones].cov()\n",
    "matriz_cov_port"
   ]
  },
  {
   "cell_type": "code",
   "execution_count": 31,
   "metadata": {},
   "outputs": [],
   "source": [
    "for i in range(num_simulaciones):\n",
    "    \n",
    "    #Calcular peso aleatorio de cada una de las acciones:\n",
    "    w = np.random.random(numero_acciones)\n",
    "    w = w / np.sum(w)\n",
    "    \n",
    "    #Calcular E(Rp), var y sigma anual:\n",
    "    \n",
    "    retorno_portafolio = np.sum(serie_retornos_promedio_anual[nombre_acciones] * w)\n",
    "    var_portafolio = np.dot(w.T, np.dot(matriz_cov_port, w))\n",
    "    sigma_portafolio = np.sqrt(var_portafolio) * np.sqrt(252)\n",
    "    \n",
    "    sharp_portafolio = (retorno_portafolio - rf)/ sigma_portafolio \n",
    "    \n",
    "    \n",
    "    simulacion[i, 0] = i + 1 #<---Numero simulacion\n",
    "    simulacion[i, 1] = retorno_portafolio\n",
    "    simulacion[i, 2] = sigma_portafolio\n",
    "    simulacion[i, 3] = sharp_portafolio\n",
    "    for j in range(numero_acciones):\n",
    "        simulacion[i, j + 4] = w[j]\n",
    "    \n",
    "    "
   ]
  },
  {
   "cell_type": "code",
   "execution_count": 33,
   "metadata": {},
   "outputs": [
    {
     "data": {
      "text/plain": [
       "array([[1.00000000e+00, 4.01864331e-01, 1.52847955e-01, ...,\n",
       "        1.74055763e-01, 3.39661061e-01, 4.67892062e-02],\n",
       "       [2.00000000e+00, 3.80832150e-01, 1.55805065e-01, ...,\n",
       "        2.54105040e-01, 3.65846122e-01, 7.12529579e-03],\n",
       "       [3.00000000e+00, 3.43299598e-01, 1.56364938e-01, ...,\n",
       "        3.65831340e-01, 2.11110901e-01, 2.01144464e-01],\n",
       "       ...,\n",
       "       [2.99980000e+04, 3.98731409e-01, 1.68428810e-01, ...,\n",
       "        3.31574358e-01, 1.51241479e-01, 1.67285221e-01],\n",
       "       [2.99990000e+04, 4.44665982e-01, 1.86782740e-01, ...,\n",
       "        4.13007393e-01, 1.00342956e-01, 3.01834524e-02],\n",
       "       [3.00000000e+04, 3.16683030e-01, 1.52084610e-01, ...,\n",
       "        2.01968062e-01, 2.81866480e-01, 3.33217107e-01]])"
      ]
     },
     "execution_count": 33,
     "metadata": {},
     "output_type": "execute_result"
    }
   ],
   "source": [
    "simulacion"
   ]
  },
  {
   "cell_type": "code",
   "execution_count": null,
   "metadata": {},
   "outputs": [],
   "source": []
  }
 ],
 "metadata": {
  "kernelspec": {
   "display_name": "Python 3",
   "language": "python",
   "name": "python3"
  },
  "language_info": {
   "codemirror_mode": {
    "name": "ipython",
    "version": 3
   },
   "file_extension": ".py",
   "mimetype": "text/x-python",
   "name": "python",
   "nbconvert_exporter": "python",
   "pygments_lexer": "ipython3",
   "version": "3.7.1"
  }
 },
 "nbformat": 4,
 "nbformat_minor": 2
}
