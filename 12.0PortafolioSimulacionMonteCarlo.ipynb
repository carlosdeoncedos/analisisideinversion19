{
 "cells": [
  {
   "cell_type": "code",
   "execution_count": 1,
   "metadata": {},
   "outputs": [],
   "source": [
    "%matplotlib inline\n",
    "\n",
    "import pandas as pd\n",
    "import numpy as np\n",
    "import matplotlib.pyplot as plt\n",
    "\n",
    "from pylab import plt\n",
    "plt.style.use('seaborn')"
   ]
  },
  {
   "cell_type": "code",
   "execution_count": 2,
   "metadata": {},
   "outputs": [],
   "source": [
    "import precios as pc"
   ]
  },
  {
   "cell_type": "code",
   "execution_count": 3,
   "metadata": {},
   "outputs": [],
   "source": [
    "df = pc.datos('2016-1-1')"
   ]
  },
  {
   "cell_type": "code",
   "execution_count": 7,
   "metadata": {},
   "outputs": [],
   "source": [
    "del df['ipc']"
   ]
  },
  {
   "cell_type": "code",
   "execution_count": 9,
   "metadata": {},
   "outputs": [],
   "source": [
    "df_retornos = np.log(df/df.shift(1))\n",
    "df_retornos.dropna(inplace = True)"
   ]
  },
  {
   "cell_type": "code",
   "execution_count": 11,
   "metadata": {},
   "outputs": [
    {
     "data": {
      "text/plain": [
       "ac            0.069339\n",
       "alfaa        -0.659918\n",
       "alpeka       -0.066720\n",
       "alsea        -0.207652\n",
       "amxl          0.213286\n",
       "asurb         0.243276\n",
       "bimboa       -0.229718\n",
       "bolsaa        0.505851\n",
       "cemexcpo     -0.144160\n",
       "elektra       1.334904\n",
       "femsaubd      0.146563\n",
       "gapb          0.275169\n",
       "gcarsoa1     -0.193062\n",
       "gmexicob      0.237214\n",
       "grumab       -0.160061\n",
       "ienova        0.082422\n",
       "kimbera       0.042985\n",
       "kofubl        0.005968\n",
       "labb          0.275463\n",
       "livepolc1    -0.663796\n",
       "megacpo       0.256199\n",
       "omab          0.379406\n",
       "orbia         0.025205\n",
       "penoles       0.371505\n",
       "pinfra       -0.125699\n",
       "tlevisacpo   -0.874735\n",
       "walmex        0.318708\n",
       "dtype: float64"
      ]
     },
     "execution_count": 11,
     "metadata": {},
     "output_type": "execute_result"
    }
   ],
   "source": [
    "df_retornos.sum()"
   ]
  },
  {
   "cell_type": "code",
   "execution_count": null,
   "metadata": {},
   "outputs": [],
   "source": [
    "df_retornos_promedios = "
   ]
  }
 ],
 "metadata": {
  "kernelspec": {
   "display_name": "Python 3",
   "language": "python",
   "name": "python3"
  },
  "language_info": {
   "codemirror_mode": {
    "name": "ipython",
    "version": 3
   },
   "file_extension": ".py",
   "mimetype": "text/x-python",
   "name": "python",
   "nbconvert_exporter": "python",
   "pygments_lexer": "ipython3",
   "version": "3.7.1"
  }
 },
 "nbformat": 4,
 "nbformat_minor": 2
}
