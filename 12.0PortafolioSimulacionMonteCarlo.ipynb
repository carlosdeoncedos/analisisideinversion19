{
 "cells": [
  {
   "cell_type": "code",
   "execution_count": 1,
   "metadata": {},
   "outputs": [],
   "source": [
    "%matplotlib inline\n",
    "\n",
    "import pandas as pd\n",
    "import numpy as np\n",
    "import matplotlib.pyplot as plt\n",
    "\n",
    "from pylab import plt\n",
    "plt.style.use('seaborn')"
   ]
  },
  {
   "cell_type": "code",
   "execution_count": 2,
   "metadata": {},
   "outputs": [],
   "source": [
    "import precios as pc"
   ]
  },
  {
   "cell_type": "code",
   "execution_count": 3,
   "metadata": {},
   "outputs": [],
   "source": [
    "df = pc.datos('2019-1-1')"
   ]
  },
  {
   "cell_type": "code",
   "execution_count": 4,
   "metadata": {},
   "outputs": [],
   "source": [
    "del df['ipc']"
   ]
  },
  {
   "cell_type": "code",
   "execution_count": 5,
   "metadata": {},
   "outputs": [],
   "source": [
    "df_retornos = np.log(df/df.shift(1))\n",
    "df_retornos.dropna(inplace = True)"
   ]
  },
  {
   "cell_type": "code",
   "execution_count": 6,
   "metadata": {},
   "outputs": [
    {
     "data": {
      "text/plain": [
       "ac            0.002562\n",
       "alfaa        -0.290116\n",
       "alpeka       -0.094821\n",
       "alsea        -0.068993\n",
       "amxl          0.033462\n",
       "asurb        -0.007311\n",
       "bimboa       -0.094344\n",
       "bolsaa        0.085288\n",
       "cemexcpo     -0.291442\n",
       "elektra       0.380721\n",
       "femsaubd      0.066257\n",
       "gapb          0.166952\n",
       "gcarsoa1     -0.222414\n",
       "gmexicob      0.098829\n",
       "grumab       -0.095057\n",
       "ienova        0.095664\n",
       "kimbera       0.261606\n",
       "kofubl        0.001737\n",
       "labb          0.464330\n",
       "livepolc1    -0.178241\n",
       "megacpo      -0.081603\n",
       "omab          0.193361\n",
       "orbia        -0.256608\n",
       "penoles       0.024329\n",
       "pinfra       -0.044374\n",
       "tlevisacpo   -0.252637\n",
       "walmex        0.169773\n",
       "dtype: float64"
      ]
     },
     "execution_count": 6,
     "metadata": {},
     "output_type": "execute_result"
    }
   ],
   "source": [
    "df_retornos.sum()"
   ]
  },
  {
   "cell_type": "code",
   "execution_count": 7,
   "metadata": {},
   "outputs": [],
   "source": [
    "serie_retornos_promedios = df_retornos.mean()"
   ]
  },
  {
   "cell_type": "code",
   "execution_count": 8,
   "metadata": {},
   "outputs": [
    {
     "data": {
      "text/plain": [
       "ac            0.000013\n",
       "alfaa        -0.001519\n",
       "alpeka       -0.000496\n",
       "alsea        -0.000361\n",
       "amxl          0.000175\n",
       "asurb        -0.000038\n",
       "bimboa       -0.000494\n",
       "bolsaa        0.000447\n",
       "cemexcpo     -0.001526\n",
       "elektra       0.001993\n",
       "femsaubd      0.000347\n",
       "gapb          0.000874\n",
       "gcarsoa1     -0.001164\n",
       "gmexicob      0.000517\n",
       "grumab       -0.000498\n",
       "ienova        0.000501\n",
       "kimbera       0.001370\n",
       "kofubl        0.000009\n",
       "labb          0.002431\n",
       "livepolc1    -0.000933\n",
       "megacpo      -0.000427\n",
       "omab          0.001012\n",
       "orbia        -0.001343\n",
       "penoles       0.000127\n",
       "pinfra       -0.000232\n",
       "tlevisacpo   -0.001323\n",
       "walmex        0.000889\n",
       "dtype: float64"
      ]
     },
     "execution_count": 8,
     "metadata": {},
     "output_type": "execute_result"
    }
   ],
   "source": [
    "serie_retornos_promedios"
   ]
  },
  {
   "cell_type": "code",
   "execution_count": 9,
   "metadata": {},
   "outputs": [
    {
     "data": {
      "text/plain": [
       "ac            0.003381\n",
       "alfaa        -0.382771\n",
       "alpeka       -0.125105\n",
       "alsea        -0.091027\n",
       "amxl          0.044148\n",
       "asurb        -0.009645\n",
       "bimboa       -0.124475\n",
       "bolsaa        0.112527\n",
       "cemexcpo     -0.384520\n",
       "elektra       0.502313\n",
       "femsaubd      0.087417\n",
       "gapb          0.220272\n",
       "gcarsoa1     -0.293446\n",
       "gmexicob      0.130392\n",
       "grumab       -0.125416\n",
       "ienova        0.126216\n",
       "kimbera       0.345156\n",
       "kofubl        0.002292\n",
       "labb          0.612623\n",
       "livepolc1    -0.235166\n",
       "megacpo      -0.107664\n",
       "omab          0.255115\n",
       "orbia        -0.338561\n",
       "penoles       0.032099\n",
       "pinfra       -0.058546\n",
       "tlevisacpo   -0.333322\n",
       "walmex        0.223994\n",
       "dtype: float64"
      ]
     },
     "execution_count": 9,
     "metadata": {},
     "output_type": "execute_result"
    }
   ],
   "source": [
    "serie_retornos_promedio_anual = serie_retornos_promedios *252\n",
    "serie_retornos_promedio_anual"
   ]
  },
  {
   "cell_type": "code",
   "execution_count": 10,
   "metadata": {},
   "outputs": [
    {
     "data": {
      "text/plain": [
       "ac            0.011574\n",
       "alfaa         0.018524\n",
       "alpeka        0.014902\n",
       "alsea         0.017138\n",
       "amxl          0.015391\n",
       "asurb         0.014294\n",
       "bimboa        0.015540\n",
       "bolsaa        0.014325\n",
       "cemexcpo      0.021137\n",
       "elektra       0.012891\n",
       "femsaubd      0.010156\n",
       "gapb          0.015868\n",
       "gcarsoa1      0.019434\n",
       "gmexicob      0.019536\n",
       "grumab        0.011330\n",
       "ienova        0.017863\n",
       "kimbera       0.016861\n",
       "kofubl        0.011055\n",
       "labb          0.021161\n",
       "livepolc1     0.015072\n",
       "megacpo       0.015941\n",
       "omab          0.015303\n",
       "orbia         0.018613\n",
       "penoles       0.023652\n",
       "pinfra        0.014105\n",
       "tlevisacpo    0.022561\n",
       "walmex        0.014812\n",
       "dtype: float64"
      ]
     },
     "execution_count": 10,
     "metadata": {},
     "output_type": "execute_result"
    }
   ],
   "source": [
    "serie_sigma = df_retornos.std()\n",
    "serie_sigma"
   ]
  },
  {
   "cell_type": "code",
   "execution_count": 11,
   "metadata": {},
   "outputs": [
    {
     "data": {
      "text/plain": [
       "ac            0.183734\n",
       "alfaa         0.294060\n",
       "alpeka        0.236561\n",
       "alsea         0.272059\n",
       "amxl          0.244318\n",
       "asurb         0.226915\n",
       "bimboa        0.246684\n",
       "bolsaa        0.227400\n",
       "cemexcpo      0.335537\n",
       "elektra       0.204641\n",
       "femsaubd      0.161220\n",
       "gapb          0.251894\n",
       "gcarsoa1      0.308506\n",
       "gmexicob      0.310125\n",
       "grumab        0.179863\n",
       "ienova        0.283567\n",
       "kimbera       0.267663\n",
       "kofubl        0.175497\n",
       "labb          0.335920\n",
       "livepolc1     0.239263\n",
       "megacpo       0.253052\n",
       "omab          0.242930\n",
       "orbia         0.295474\n",
       "penoles       0.375461\n",
       "pinfra        0.223904\n",
       "tlevisacpo    0.358146\n",
       "walmex        0.235125\n",
       "dtype: float64"
      ]
     },
     "execution_count": 11,
     "metadata": {},
     "output_type": "execute_result"
    }
   ],
   "source": [
    "serie_sigma_anual = serie_sigma * np.sqrt(252)\n",
    "serie_sigma_anual"
   ]
  },
  {
   "cell_type": "code",
   "execution_count": 12,
   "metadata": {},
   "outputs": [],
   "source": [
    "acciones = pc.componentes()"
   ]
  },
  {
   "cell_type": "code",
   "execution_count": 13,
   "metadata": {},
   "outputs": [
    {
     "data": {
      "image/png": "[encoded data removed]",
      "text/plain": [
       "<Figure size 864x576 with 1 Axes>"
      ]
     },
     "metadata": {
      "needs_background": "light"
     },
     "output_type": "display_data"
    }
   ],
   "source": [
    "plt.figure(figsize = (12, 8))\n",
    "\n",
    "plt.suptitle('Disperción retornos/volatilidad BMV', \n",
    "             fontsize = 16)\n",
    "\n",
    "plt.title('Del 2016-1-1 al 2019-10-4')\n",
    "\n",
    "plt.xlabel('Volatilidad anualizada')\n",
    "plt.ylabel('Retornos anualizados')\n",
    "\n",
    "for accion in acciones:\n",
    "    \n",
    "    if accion != 'ipc':\n",
    "        plt.scatter(serie_sigma_anual[accion], \n",
    "                    serie_retornos_promedio_anual[accion], marker='+',\n",
    "                   label = accion)\n",
    "        plt.text(serie_sigma_anual[accion],\n",
    "                 serie_retornos_promedio_anual[accion], accion,\n",
    "                 fontsize = 12)"
   ]
  },
  {
   "cell_type": "code",
   "execution_count": 14,
   "metadata": {},
   "outputs": [],
   "source": [
    "rf = 0.0755\n",
    "\n",
    "sharp_ratio = (serie_retornos_promedio_anual - rf) / serie_sigma_anual"
   ]
  },
  {
   "cell_type": "code",
   "execution_count": 15,
   "metadata": {},
   "outputs": [
    {
     "data": {
      "text/plain": [
       "ac           -0.392521\n",
       "alfaa        -1.558427\n",
       "alpeka       -0.848004\n",
       "alsea        -0.612099\n",
       "amxl         -0.128323\n",
       "asurb        -0.375231\n",
       "bimboa       -0.810652\n",
       "bolsaa        0.162829\n",
       "cemexcpo     -1.370998\n",
       "elektra       2.085665\n",
       "femsaubd      0.073921\n",
       "gapb          0.574731\n",
       "gcarsoa1     -1.195914\n",
       "gmexicob      0.176998\n",
       "grumab       -1.117054\n",
       "ienova        0.178849\n",
       "kimbera       1.007446\n",
       "kofubl       -0.417148\n",
       "labb          1.598961\n",
       "livepolc1    -1.298430\n",
       "megacpo      -0.723822\n",
       "omab          0.739371\n",
       "orbia        -1.401347\n",
       "penoles      -0.115594\n",
       "pinfra       -0.598675\n",
       "tlevisacpo   -1.141496\n",
       "walmex        0.631553\n",
       "dtype: float64"
      ]
     },
     "execution_count": 15,
     "metadata": {},
     "output_type": "execute_result"
    }
   ],
   "source": [
    "sharp_ratio.sort"
   ]
  },
  {
   "cell_type": "code",
   "execution_count": null,
   "metadata": {},
   "outputs": [],
   "source": []
  }
 ],
 "metadata": {
  "kernelspec": {
   "display_name": "Python 3",
   "language": "python",
   "name": "python3"
  },
  "language_info": {
   "codemirror_mode": {
    "name": "ipython",
    "version": 3
   },
   "file_extension": ".py",
   "mimetype": "text/x-python",
   "name": "python",
   "nbconvert_exporter": "python",
   "pygments_lexer": "ipython3",
   "version": "3.7.1"
  }
 },
 "nbformat": 4,
 "nbformat_minor": 2
}
