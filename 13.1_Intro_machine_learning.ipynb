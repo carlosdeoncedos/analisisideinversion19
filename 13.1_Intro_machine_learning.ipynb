{
 "cells": [
  {
   "cell_type": "markdown",
   "metadata": {},
   "source": [
    "<font color='navygray'>INTRODUCCION A MACHINE LEARNING</font><br>\n",
    "<font color='blue'>Por Carlos Crespo Elizondo, MSF</font><br>\n",
    "MF-013 Análisis de Inversión<br>\n",
    "Maestría de Finanzas, Facultad de Economía, UANL<br>"
   ]
  },
  {
   "cell_type": "code",
   "execution_count": null,
   "metadata": {},
   "outputs": [],
   "source": []
  }
 ],
 "metadata": {
  "kernelspec": {
   "display_name": "Python 3",
   "language": "python",
   "name": "python3"
  },
  "language_info": {
   "codemirror_mode": {
    "name": "ipython",
    "version": 3
   },
   "file_extension": ".py",
   "mimetype": "text/x-python",
   "name": "python",
   "nbconvert_exporter": "python",
   "pygments_lexer": "ipython3",
   "version": "3.7.1"
  }
 },
 "nbformat": 4,
 "nbformat_minor": 2
}
