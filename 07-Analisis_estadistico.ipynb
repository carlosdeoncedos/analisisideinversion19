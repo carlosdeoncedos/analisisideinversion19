{
 "cells": [
  {
   "cell_type": "markdown",
   "metadata": {},
   "source": [
    "**ANALISIS ESTADISTICO DE SERIES DE TIEMPO FINANCIERAS**<br>\n",
    "**_Por Carlos Crespo Elizondo, MSF_**<br>\n",
    "MF-013 Análisis de Inversión<br>\n",
    "Maestría de Finanzas, Facultad de Economía, UANL<br>\n",
    "16 de octubre, 2019"
   ]
  },
  {
   "cell_type": "markdown",
   "metadata": {},
   "source": [
    "**CODIGO INICIAL**<br>\n",
    "Copia el siguiente código y pégalo en Jupyter."
   ]
  },
  {
   "cell_type": "code",
   "execution_count": null,
   "metadata": {},
   "outputs": [],
   "source": [
    "#IMPORTAR LIBRERIAS\n",
    "%matplotlib inline\n",
    "\n",
    "import pandas as pd\n",
    "import numpy as np\n",
    "import matplotlib.pyplot as plt\n",
    "\n",
    "from pylab import plt\n",
    "plt.style.use('seaborn')\n",
    "\n",
    "\n",
    "#GENERAR DATAFRAME NUEVO CON FECHAS DEL 1 DE ENE-'15 AL 4 DE OCT-'19\n",
    "fecha_inicial = '2015-1-1'\n",
    "fecha_final = '2019-10-4'\n",
    "rango_fechas = pd.date_range(fecha_inicial, fecha_final)\n",
    "\n",
    "precios_cierre = pd.DataFrame(index = rango_fechas)\n",
    "\n",
    "\n",
    "#LISTA DE EMISORAS Y DEL S&P/BMV IPC\n",
    "emisoras = ['ipc', 'ac','alfaa', 'alpeka', 'alsea', 'amxl', 'asurb', 'bimboa',\n",
    "            'bolsaa', 'cemexcpo', 'elektra', 'femsaubd', 'gapb', 'gcarsoa1', 'gmexicob',\n",
    "            'grumab', 'ienova', 'kimbera', 'kofubl', 'labb', 'livepolc1', 'megacpo',\n",
    "            'omab', 'orbia', 'penoles', 'pinfra', 'tlevisacpo', 'walmex']"
   ]
  },
  {
   "cell_type": "markdown",
   "metadata": {},
   "source": [
    "**EMPEZAMOS**<br>\n",
    "A partir de este punto empezamos la clase!!!!"
   ]
  }
 ],
 "metadata": {
  "kernelspec": {
   "display_name": "Python 3",
   "language": "python",
   "name": "python3"
  },
  "language_info": {
   "codemirror_mode": {
    "name": "ipython",
    "version": 3
   },
   "file_extension": ".py",
   "mimetype": "text/x-python",
   "name": "python",
   "nbconvert_exporter": "python",
   "pygments_lexer": "ipython3",
   "version": "3.7.1"
  }
 },
 "nbformat": 4,
 "nbformat_minor": 2
}
