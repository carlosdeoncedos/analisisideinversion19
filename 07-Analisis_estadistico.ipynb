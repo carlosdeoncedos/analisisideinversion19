{
 "cells": [
  {
   "cell_type": "markdown",
   "metadata": {},
   "source": [
    "**ANALISIS ESTADISTICO DE SERIES DE TIEMPO FINANCIERAS**<br>\n",
    "**_Por Carlos Crespo Elizondo, MSF_**<br>\n",
    "MF-013 Análisis de Inversión<br>\n",
    "Maestría de Finanzas, Facultad de Economía, UANL<br>\n",
    "16 de octubre, 2019"
   ]
  },
  {
   "cell_type": "markdown",
   "metadata": {},
   "source": [
    "**CODIGO INICIAL**<br>\n",
    "Copia el siguiente código y pégalo en Jupyter."
   ]
  },
  {
   "cell_type": "code",
   "execution_count": null,
   "metadata": {},
   "outputs": [],
   "source": [
    "%matplotlib inline\n",
    "\n",
    "import pandas as pd\n",
    "import numpy as np\n",
    "import matplotlib.pyplot as plt\n",
    "\n",
    "from pylab import plt\n",
    "plt.style.use('seaborn')\n",
    "\n",
    "\n",
    "\n",
    "fecha_inicial = '2015-1-1'\n",
    "fecha_final = '2019-10-4'\n",
    "\n",
    "rango_fechas = pd.date_range(fecha_inicial, fecha_final)\n",
    "\n",
    "\n",
    "\n",
    "precios_cierre = pd.DataFrame(index = rango_fechas)\n",
    "\n",
    "\n",
    "\n",
    "emisoras = [ 'ipc.csv', 'ac.csv','alfaa.csv','alpeka.csv','alsea.csv',\n",
    "            'amxl.csv','asurb.csv','bimboa.csv','bolsaa.csv','cemexcpo.csv',\n",
    "            'elektra.csv','femsaubd.csv','gapb.csv','gcarsoa1.csv',\n",
    "            'gmexicob.csv','grumab.csv','ienova.csv','kimbera.csv',\n",
    "            'kofubl.csv','labb.csv','livepolc1.csv','megacpo.csv','omab.csv',\n",
    "            'orbia.csv','penoles.csv','pinfra.csv','tlevisacpo.csv',\n",
    "            'walmex.csv']\n",
    "\n",
    "\n",
    "\n",
    "for emisora in emisoras:\n",
    "    \n",
    "    nombre, terminacion = emisora.split('.')\n",
    "    url = 'http://bit.ly/oncedos-{}'.format(nombre)\n",
    "    \n",
    "    \n",
    "    if nombre == 'ipc':\n",
    "        \n",
    "        df = pd.read_csv('http://bit.ly/oncedos-ipc', index_col = 0, \n",
    "                  parse_dates = True, usecols = ['Date', 'Close'])\n",
    "        \n",
    "        df.rename(columns = {'Close':'PX_LAST'}, inplace = True)\n",
    "        \n",
    "    else:\n",
    "        df = pd.read_csv(url, skiprows = 6, index_col = 0, parse_dates = True, \n",
    "                 usecols = ['Date', 'PX_LAST'], dayfirst = True)  \n",
    "    \n",
    "    df.sort_index(inplace = True)\n",
    "    \n",
    "    precios_cierre = precios_cierre.join(df['PX_LAST'])\n",
    "    precios_cierre.rename(columns = {'PX_LAST' : nombre}, inplace = True)\n",
    "    \n",
    "    del df, nombre, terminacion, url\n",
    "    \n",
    "precios_cierre.dropna(inplace = True)"
   ]
  },
  {
   "cell_type": "markdown",
   "metadata": {},
   "source": [
    "**EMPEZAMOS**<br>\n",
    "A partir de este punto empezamos la clase!!!!"
   ]
  },
  {
   "cell_type": "code",
   "execution_count": null,
   "metadata": {},
   "outputs": [],
   "source": []
  }
 ],
 "metadata": {
  "kernelspec": {
   "display_name": "Python 3",
   "language": "python",
   "name": "python3"
  },
  "language_info": {
   "codemirror_mode": {
    "name": "ipython",
    "version": 3
   },
   "file_extension": ".py",
   "mimetype": "text/x-python",
   "name": "python",
   "nbconvert_exporter": "python",
   "pygments_lexer": "ipython3",
   "version": "3.7.1"
  }
 },
 "nbformat": 4,
 "nbformat_minor": 2
}
