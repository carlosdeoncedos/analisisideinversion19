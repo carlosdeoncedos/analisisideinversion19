{
 "cells": [
  {
   "cell_type": "markdown",
   "metadata": {},
   "source": [
    "**CONTINUACION ANALISIS PRECIOS HISTORICOS**<br>\n",
    "**_Por Carlos Crespo Elizondo, MSF_**<br>\n",
    "MF-013 Análisis de Inversión<br>\n",
    "Maestría de Finanzas, Facultad de Economía, UANL<br>\n",
    "16 de octubre, 2019"
   ]
  },
  {
   "cell_type": "markdown",
   "metadata": {},
   "source": [
    "**EL CODIGO DE LA SEMANA PASADA**<br>\n",
    "Copia el siguiente código y pégalo en Jupyter."
   ]
  },
  {
   "cell_type": "code",
   "execution_count": null,
   "metadata": {},
   "outputs": [],
   "source": [
    "%matplotlib inline\n",
    "\n",
    "import pandas as pd\n",
    "import numpy as np\n",
    "import matplotlib.pyplot as plt\n",
    "\n",
    "from pylab import plt\n",
    "plt.style.use('seaborn')\n",
    "\n",
    "\n",
    "empresas = ['ac.csv','alfaa.csv','alpeka.csv','alsea.csv',\n",
    "            'amxl.csv','asurb.csv','bimboa.csv','bolsaa.csv','cemexcpo.csv',\n",
    "            'elektra.csv','femsaubd.csv','gapb.csv','gcarsoa1.csv',\n",
    "            'gmexicob.csv','grumab.csv','ienova.csv','kimbera.csv',\n",
    "            'kofubl.csv','labb.csv','livepolc1.csv','megacpo.csv','omab.csv',\n",
    "            'orbia.csv','penoles.csv','pinfra.csv','tlevisacpo.csv',\n",
    "            'walmex.csv']\n",
    "\n",
    "#Creación del rango de fechas:\n",
    "fecha_inicial = '2014-1-1'\n",
    "fecha_final = '2019-10-4'\n",
    "\n",
    "rango_fechas = pd.date_range(fecha_inicial, fecha_final)\n",
    "\n",
    "\n",
    "#Creación del DF\n",
    "precios_cierre = pd.DataFrame(index = rango_fechas)\n",
    "\n",
    "\n",
    "#Llenado del DF\n",
    "for empresa in empresas:\n",
    "    \n",
    "    nombre, terminacion = empresa.split('.')\n",
    "    url = 'http://bit.ly/oncedos-{}'.format(nombre)\n",
    "    \n",
    "    df = pd.read_csv(url, skiprows=6, index_col=0, parse_dates = True,\n",
    "                dayfirst = True, usecols = ['Date', 'PX_LAST'])\n",
    "    \n",
    "    df.sort_index(inplace = True)\n",
    "    \n",
    "    precios_cierre = precios_cierre.join(df['PX_LAST'])\n",
    "    precios_cierre.rename(columns = {'PX_LAST':nombre}, inplace = True)\n",
    "        \n",
    "precios_cierre.dropna(inplace = True)\n",
    "\n",
    "\n",
    "#Calculo de los precios normalizados\n",
    "precios_normalizados = (precios_cierre / precios_cierre.iloc[0, :]) - 1\n",
    "\n",
    "#Gráficas\n",
    "#precios_cierre.plot(figsize = (12,8));\n",
    "#precios_normalizados.plot(figsize=(12,8));"
   ]
  }
 ],
 "metadata": {
  "kernelspec": {
   "display_name": "Python 3",
   "language": "python",
   "name": "python3"
  },
  "language_info": {
   "codemirror_mode": {
    "name": "ipython",
    "version": 3
   },
   "file_extension": ".py",
   "mimetype": "text/x-python",
   "name": "python",
   "nbconvert_exporter": "python",
   "pygments_lexer": "ipython3",
   "version": "3.7.1"
  }
 },
 "nbformat": 4,
 "nbformat_minor": 2
}
