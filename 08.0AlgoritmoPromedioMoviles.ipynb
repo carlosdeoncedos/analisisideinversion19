{
 "cells": [
  {
   "cell_type": "markdown",
   "metadata": {},
   "source": [
    "*__ALGORITMO BASADO EN PROMEDIOS MOVILES__*<br>\n",
    "**Por Carlos Crespo Elizondo**<br>\n",
    "MF-013 Análisis de Inversión<br>\n",
    "Maestría de Finanzas, Facultad de Economía, UANL<br>\n",
    "23 de octubre, 2019<br>"
   ]
  },
  {
   "cell_type": "code",
   "execution_count": null,
   "metadata": {},
   "outputs": [],
   "source": [
    "%matplotlib inline\n",
    "\n",
    "import pandas as pd\n",
    "import numpy as np\n",
    "import matplotlib.pyplot as plt\n",
    "\n",
    "from pylab import plt\n",
    "plt.style.use('seaborn')\n",
    "\n",
    "\n",
    "\n",
    "emisora = 'ipc'\n",
    "url = 'http://bit.ly/oncedos-{}'.format(emisora)\n",
    "\n",
    "ipc = pd.read_csv(url, index_col = 0, parse_dates = True)\n",
    "\n",
    "ipc.info()"
   ]
  }
 ],
 "metadata": {
  "kernelspec": {
   "display_name": "Python 3",
   "language": "python",
   "name": "python3"
  },
  "language_info": {
   "codemirror_mode": {
    "name": "ipython",
    "version": 3
   },
   "file_extension": ".py",
   "mimetype": "text/x-python",
   "name": "python",
   "nbconvert_exporter": "python",
   "pygments_lexer": "ipython3",
   "version": "3.7.1"
  }
 },
 "nbformat": 4,
 "nbformat_minor": 2
}
